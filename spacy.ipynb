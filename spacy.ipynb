{
  "nbformat": 4,
  "nbformat_minor": 0,
  "metadata": {
    "colab": {
      "provenance": [],
      "authorship_tag": "ABX9TyOjTym7RPQfekhbHWENxJm5",
      "include_colab_link": true
    },
    "kernelspec": {
      "name": "python3",
      "display_name": "Python 3"
    },
    "language_info": {
      "name": "python"
    }
  },
  "cells": [
    {
      "cell_type": "markdown",
      "metadata": {
        "id": "view-in-github",
        "colab_type": "text"
      },
      "source": [
        "<a href=\"https://colab.research.google.com/github/Josephcoder123/AI-Tools-Frameworks/blob/main/spacy.ipynb\" target=\"_parent\"><img src=\"https://colab.research.google.com/assets/colab-badge.svg\" alt=\"Open In Colab\"/></a>"
      ]
    },
    {
      "cell_type": "code",
      "source": [
        "import spacy\n",
        "from textblob import TextBlob\n",
        "import pandas as pd\n",
        "\n",
        "# Load the spaCy model for NER\n",
        "nlp = spacy.load(\"en_core_web_sm\")\n",
        "\n",
        "# Sample Amazon product reviews\n",
        "reviews = [\n",
        "    \"I love the iPhone 13! It's the best phone I've ever used.\",\n",
        "    \"The Samsung Galaxy S21 has a great camera but poor battery life.\",\n",
        "    \"I am disappointed with the quality of the Echo Dot.\",\n",
        "    \"The MacBook Air is fantastic for students.\"\n",
        "]\n",
        "\n",
        "# Function to extract entities and analyze sentiment\n",
        "def analyze_reviews(reviews):\n",
        "    results = []\n",
        "    for review in reviews:\n",
        "        doc = nlp(review)\n",
        "        entities = [(ent.text, ent.label_) for ent in doc.ents]\n",
        "\n",
        "        # Analyze sentiment\n",
        "        sentiment = TextBlob(review).sentiment\n",
        "        sentiment_score = sentiment.polarity  # Range from -1 (negative) to 1 (positive)\n",
        "        sentiment_label = \"Positive\" if sentiment_score > 0 else \"Negative\" if sentiment_score < 0 else \"Neutral\"\n",
        "\n",
        "        results.append({\n",
        "            \"Review\": review,\n",
        "            \"Entities\": entities,\n",
        "            \"Sentiment\": sentiment_label\n",
        "        })\n",
        "\n",
        "    return pd.DataFrame(results)\n",
        "\n",
        "# Analyze the reviews\n",
        "results_df = analyze_reviews(reviews)\n",
        "print(results_df)\n"
      ],
      "metadata": {
        "colab": {
          "base_uri": "https://localhost:8080/"
        },
        "id": "cBtY8coPFodc",
        "outputId": "b941049c-f543-4b8a-8a8e-5b652242c8f3"
      },
      "execution_count": null,
      "outputs": [
        {
          "output_type": "stream",
          "name": "stdout",
          "text": [
            "                                              Review  \\\n",
            "0  I love the iPhone 13! It's the best phone I've...   \n",
            "1  The Samsung Galaxy S21 has a great camera but ...   \n",
            "2  I am disappointed with the quality of the Echo...   \n",
            "3         The MacBook Air is fantastic for students.   \n",
            "\n",
            "                   Entities Sentiment  \n",
            "0          [(13, CARDINAL)]  Positive  \n",
            "1                        []  Positive  \n",
            "2   [(the Echo Dot, EVENT)]  Negative  \n",
            "3  [(The MacBook Air, ORG)]  Positive  \n"
          ]
        }
      ]
    }
  ]
}